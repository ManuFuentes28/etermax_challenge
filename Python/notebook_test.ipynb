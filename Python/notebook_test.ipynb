{
 "cells": [
  {
   "cell_type": "code",
   "execution_count": 1,
   "id": "714ac6aa-7ba8-4cf5-a66e-2e1c2773d6e2",
   "metadata": {},
   "outputs": [],
   "source": [
    "from typing import Dict\n",
    "import pandas as pd\n",
    "import json\n",
    "import logging\n",
    "from pandas.core.frame import DataFrame"
   ]
  },
  {
   "cell_type": "code",
   "execution_count": 2,
   "id": "b23f9b76-2b4f-48eb-bd9e-5c0a69e249ef",
   "metadata": {},
   "outputs": [],
   "source": [
    "FILE = './datos_data_engineer.tsv'\n",
    "SETTINGS = './settings.json'\n",
    "SEP = '\\t'\n",
    "ENCODING = 'utf-16le'"
   ]
  },
  {
   "cell_type": "code",
   "execution_count": 3,
   "id": "bfe8f248-fefb-43e5-9a7c-35257c037dfc",
   "metadata": {},
   "outputs": [],
   "source": [
    "def json_setting(json_name: str) -> Dict:\n",
    "    \"\"\"[summary]\n",
    "\n",
    "    Args:\n",
    "        json_name (str): [description]\n",
    "\n",
    "    Returns:\n",
    "        Dict: [description]\n",
    "    \"\"\"\n",
    "    with open(json_name) as settings:\n",
    "        json_content = json.load(settings)\n",
    "    return json_content"
   ]
  },
  {
   "cell_type": "code",
   "execution_count": 4,
   "id": "74150dd7-5b1e-441a-a33d-da2f6b5109b9",
   "metadata": {},
   "outputs": [],
   "source": [
    "def read_csv_pandas(filename: str, sep: str =',', encoding: str='utf-8') -> DataFrame:\n",
    "    \"\"\"[summary]\n",
    "\n",
    "    Args:\n",
    "        filename (str): [description]\n",
    "        sep (str, optional): [description]. Defaults to ','.\n",
    "        encoding (str, optional): [description]. Defaults to 'utf-8'.\n",
    "\n",
    "    Returns:\n",
    "        [DataFrame]: [description]\n",
    "    \"\"\"\n",
    "    return pd.read_csv(filename, sep = sep, encoding=encoding)"
   ]
  },
  {
   "cell_type": "code",
   "execution_count": 94,
   "id": "339f342d-7738-4b47-ac2e-63a617367d92",
   "metadata": {},
   "outputs": [],
   "source": [
    "df = read_csv_pandas(FILE,SEP,ENCODING)\n",
    "data = json_setting(SETTINGS)\n",
    "count_row = df.shape[0]\n",
    "count_columns = df.shape[1]"
   ]
  },
  {
   "cell_type": "code",
   "execution_count": 6,
   "id": "a3c2f22e-e449-43bb-a74b-4ed9cb9e5feb",
   "metadata": {},
   "outputs": [],
   "source": [
    "count_nan = int((40*count_columns)/100)"
   ]
  },
  {
   "cell_type": "code",
   "execution_count": 7,
   "id": "161d62cd-e730-4da7-bbba-1d3407b6607b",
   "metadata": {},
   "outputs": [],
   "source": [
    "df=df[df.isnull().sum(axis=1)<count_nan]"
   ]
  },
  {
   "cell_type": "code",
   "execution_count": 102,
   "id": "25c846ea-a51a-4aa4-9493-92cfd01d00dd",
   "metadata": {},
   "outputs": [
    {
     "data": {
      "text/html": [
       "<div>\n",
       "<style scoped>\n",
       "    .dataframe tbody tr th:only-of-type {\n",
       "        vertical-align: middle;\n",
       "    }\n",
       "\n",
       "    .dataframe tbody tr th {\n",
       "        vertical-align: top;\n",
       "    }\n",
       "\n",
       "    .dataframe thead th {\n",
       "        text-align: right;\n",
       "    }\n",
       "</style>\n",
       "<table border=\"1\" class=\"dataframe\">\n",
       "  <thead>\n",
       "    <tr style=\"text-align: right;\">\n",
       "      <th></th>\n",
       "      <th>id</th>\n",
       "      <th>first_name</th>\n",
       "      <th>last_name</th>\n",
       "      <th>account_number</th>\n",
       "      <th>email</th>\n",
       "    </tr>\n",
       "  </thead>\n",
       "  <tbody>\n",
       "    <tr>\n",
       "      <th>0</th>\n",
       "      <td>1</td>\n",
       "      <td>Addison</td>\n",
       "      <td>Marks</td>\n",
       "      <td>196296</td>\n",
       "      <td>ornare.lectus@et.edu</td>\n",
       "    </tr>\n",
       "    <tr>\n",
       "      <th>1</th>\n",
       "      <td>2</td>\n",
       "      <td>Dakota</td>\n",
       "      <td>Garza</td>\n",
       "      <td>409025</td>\n",
       "      <td>scelerisque@Praesentluctus.edu</td>\n",
       "    </tr>\n",
       "    <tr>\n",
       "      <th>2</th>\n",
       "      <td>3</td>\n",
       "      <td>Basia</td>\n",
       "      <td>Wolfe</td>\n",
       "      <td>637720</td>\n",
       "      <td>Aliquam@nullaIntegerurna.com</td>\n",
       "    </tr>\n",
       "    <tr>\n",
       "      <th>3</th>\n",
       "      <td>4</td>\n",
       "      <td>Germaine</td>\n",
       "      <td>Campbell</td>\n",
       "      <td>826846</td>\n",
       "      <td>id.magna@viverraMaecenas.ca</td>\n",
       "    </tr>\n",
       "    <tr>\n",
       "      <th>4</th>\n",
       "      <td>5</td>\n",
       "      <td>Lenore</td>\n",
       "      <td>Pennington</td>\n",
       "      <td>345284</td>\n",
       "      <td>aliquam@Integer.edu</td>\n",
       "    </tr>\n",
       "    <tr>\n",
       "      <th>...</th>\n",
       "      <td>...</td>\n",
       "      <td>...</td>\n",
       "      <td>...</td>\n",
       "      <td>...</td>\n",
       "      <td>...</td>\n",
       "    </tr>\n",
       "    <tr>\n",
       "      <th>1002</th>\n",
       "      <td>996</td>\n",
       "      <td>Kirestin</td>\n",
       "      <td>Potts</td>\n",
       "      <td>653131</td>\n",
       "      <td>in@accumsan.co.uk</td>\n",
       "    </tr>\n",
       "    <tr>\n",
       "      <th>1003</th>\n",
       "      <td>997</td>\n",
       "      <td>Kristen</td>\n",
       "      <td>Stout</td>\n",
       "      <td>628705</td>\n",
       "      <td>tempus@Loremipsumdolor.edu</td>\n",
       "    </tr>\n",
       "    <tr>\n",
       "      <th>1004</th>\n",
       "      <td>998</td>\n",
       "      <td>Daniel</td>\n",
       "      <td>Snider</td>\n",
       "      <td>535804</td>\n",
       "      <td>porttitor.tellus.non@maurisMorbinon.com</td>\n",
       "    </tr>\n",
       "    <tr>\n",
       "      <th>1005</th>\n",
       "      <td>999</td>\n",
       "      <td>Simone</td>\n",
       "      <td>Mcleod</td>\n",
       "      <td>407847</td>\n",
       "      <td>et.risus@consectetuereuismod.ca</td>\n",
       "    </tr>\n",
       "    <tr>\n",
       "      <th>1006</th>\n",
       "      <td>1000</td>\n",
       "      <td>Hermione</td>\n",
       "      <td>Morales</td>\n",
       "      <td>478506</td>\n",
       "      <td>eu.nulla@Donec.com</td>\n",
       "    </tr>\n",
       "  </tbody>\n",
       "</table>\n",
       "<p>1007 rows × 5 columns</p>\n",
       "</div>"
      ],
      "text/plain": [
       "        id first_name   last_name account_number  \\\n",
       "0        1    Addison       Marks         196296   \n",
       "1        2     Dakota       Garza         409025   \n",
       "2        3      Basia       Wolfe         637720   \n",
       "3        4   Germaine    Campbell         826846   \n",
       "4        5     Lenore  Pennington         345284   \n",
       "...    ...        ...         ...            ...   \n",
       "1002   996   Kirestin       Potts         653131   \n",
       "1003   997    Kristen       Stout         628705   \n",
       "1004   998     Daniel      Snider         535804   \n",
       "1005   999     Simone      Mcleod         407847   \n",
       "1006  1000   Hermione     Morales         478506   \n",
       "\n",
       "                                        email  \n",
       "0                        ornare.lectus@et.edu  \n",
       "1              scelerisque@Praesentluctus.edu  \n",
       "2                Aliquam@nullaIntegerurna.com  \n",
       "3                 id.magna@viverraMaecenas.ca  \n",
       "4                         aliquam@Integer.edu  \n",
       "...                                       ...  \n",
       "1002                        in@accumsan.co.uk  \n",
       "1003               tempus@Loremipsumdolor.edu  \n",
       "1004  porttitor.tellus.non@maurisMorbinon.com  \n",
       "1005          et.risus@consectetuereuismod.ca  \n",
       "1006                       eu.nulla@Donec.com  \n",
       "\n",
       "[1007 rows x 5 columns]"
      ]
     },
     "execution_count": 102,
     "metadata": {},
     "output_type": "execute_result"
    }
   ],
   "source": [
    "df"
   ]
  },
  {
   "cell_type": "code",
   "execution_count": 21,
   "id": "e0d0a857-70e4-4f82-94c4-356104b772dc",
   "metadata": {},
   "outputs": [],
   "source": [
    "columns = data['column_list']"
   ]
  },
  {
   "cell_type": "code",
   "execution_count": 45,
   "id": "3c7d106d-31fc-45cf-9985-33f74f7d058b",
   "metadata": {},
   "outputs": [],
   "source": [
    "class Columna:\n",
    "    \"\"\"\n",
    "        Define la clase Columna con sus diferentes configuraciones\n",
    "    \"\"\"\n",
    "    def __init__(self, setting: Dict):\n",
    "        self.type = setting['type']\n",
    "        self.unique = setting.get('unique', False)\n",
    "        self.db_name = setting.get('db_name','')\n",
    "        self.not_null = setting.get('not_null', False)\n",
    "        self.regex = setting.get('regex', '')"
   ]
  },
  {
   "cell_type": "code",
   "execution_count": 53,
   "id": "bd550ed5-d1cc-4ad0-9379-79006939b5af",
   "metadata": {},
   "outputs": [],
   "source": [
    "for columna in columns:\n",
    "    object_column = Columna(data[columna])"
   ]
  },
  {
   "cell_type": "code",
   "execution_count": 71,
   "id": "89a7758a-cb95-4e13-97f4-b6a8bf342d04",
   "metadata": {},
   "outputs": [
    {
     "data": {
      "text/plain": [
       "{'type': 'int', 'unique': 'True', 'db_name': 'id', 'not_null': 'True'}"
      ]
     },
     "execution_count": 71,
     "metadata": {},
     "output_type": "execute_result"
    }
   ],
   "source": [
    "object_id = data['id']\n",
    "object_id"
   ]
  },
  {
   "cell_type": "code",
   "execution_count": 72,
   "id": "f39f48f8-1bac-471a-ad11-1c917710c5e8",
   "metadata": {},
   "outputs": [],
   "source": [
    "object_column = Columna(object_id)"
   ]
  },
  {
   "cell_type": "code",
   "execution_count": 73,
   "id": "3facb117-5c4e-49ce-af97-dccb887846c4",
   "metadata": {},
   "outputs": [
    {
     "name": "stdout",
     "output_type": "stream",
     "text": [
      "Hola\n"
     ]
    }
   ],
   "source": [
    "if object_column.not_null:\n",
    "    print(\"Hola\")"
   ]
  },
  {
   "cell_type": "code",
   "execution_count": 88,
   "id": "65570f11-4fa7-4518-8f34-82ec411e16e9",
   "metadata": {},
   "outputs": [
    {
     "data": {
      "text/html": [
       "<div>\n",
       "<style scoped>\n",
       "    .dataframe tbody tr th:only-of-type {\n",
       "        vertical-align: middle;\n",
       "    }\n",
       "\n",
       "    .dataframe tbody tr th {\n",
       "        vertical-align: top;\n",
       "    }\n",
       "\n",
       "    .dataframe thead th {\n",
       "        text-align: right;\n",
       "    }\n",
       "</style>\n",
       "<table border=\"1\" class=\"dataframe\">\n",
       "  <thead>\n",
       "    <tr style=\"text-align: right;\">\n",
       "      <th></th>\n",
       "      <th>id</th>\n",
       "      <th>first_name</th>\n",
       "      <th>last_name</th>\n",
       "      <th>account_number</th>\n",
       "      <th>email</th>\n",
       "    </tr>\n",
       "  </thead>\n",
       "  <tbody>\n",
       "  </tbody>\n",
       "</table>\n",
       "</div>"
      ],
      "text/plain": [
       "Empty DataFrame\n",
       "Columns: [id, first_name, last_name, account_number, email]\n",
       "Index: []"
      ]
     },
     "execution_count": 88,
     "metadata": {},
     "output_type": "execute_result"
    }
   ],
   "source": [
    "df[df['id'].isnull()]"
   ]
  },
  {
   "cell_type": "code",
   "execution_count": 87,
   "id": "a013e0d8-b898-43ab-a803-17eae41331a1",
   "metadata": {},
   "outputs": [],
   "source": [
    "df.dropna(subset = [\"id\"], inplace=True)"
   ]
  },
  {
   "cell_type": "code",
   "execution_count": 89,
   "id": "d6b6e270-b814-4799-9c91-13f77ffeda0f",
   "metadata": {},
   "outputs": [],
   "source": [
    "df.drop_duplicates(subset = [\"id\"], inplace=True)"
   ]
  },
  {
   "cell_type": "code",
   "execution_count": 95,
   "id": "d604afa0-bd17-4433-bffa-a646dd51a3c0",
   "metadata": {},
   "outputs": [
    {
     "data": {
      "text/plain": [
       "29         Bosley\n",
       "30            NaN\n",
       "84               \n",
       "220    Harrington\n",
       "341           NaN\n",
       "780       Barbara\n",
       "991           NaN\n",
       "Name: id, dtype: object"
      ]
     },
     "execution_count": 95,
     "metadata": {},
     "output_type": "execute_result"
    }
   ],
   "source": [
    "df[pd.to_numeric(df['id'], errors='coerce').isnull()]['id']"
   ]
  },
  {
   "cell_type": "code",
   "execution_count": 84,
   "id": "8bda07ce-b8b0-4db4-babe-ef421c0c85d1",
   "metadata": {},
   "outputs": [
    {
     "data": {
      "text/plain": [
       "id                                84\n",
       "first_name                   Beverly\n",
       "last_name                      Boyle\n",
       "account_number                625739\n",
       "email             Cum@atpedeCras.net\n",
       "Name: 86, dtype: object"
      ]
     },
     "execution_count": 84,
     "metadata": {},
     "output_type": "execute_result"
    }
   ],
   "source": [
    "df.iloc[85]"
   ]
  },
  {
   "cell_type": "code",
   "execution_count": 104,
   "id": "2cef75d8-470d-498e-9731-388fe8fd9567",
   "metadata": {},
   "outputs": [
    {
     "data": {
      "text/html": [
       "<div>\n",
       "<style scoped>\n",
       "    .dataframe tbody tr th:only-of-type {\n",
       "        vertical-align: middle;\n",
       "    }\n",
       "\n",
       "    .dataframe tbody tr th {\n",
       "        vertical-align: top;\n",
       "    }\n",
       "\n",
       "    .dataframe thead th {\n",
       "        text-align: right;\n",
       "    }\n",
       "</style>\n",
       "<table border=\"1\" class=\"dataframe\">\n",
       "  <thead>\n",
       "    <tr style=\"text-align: right;\">\n",
       "      <th></th>\n",
       "      <th>id</th>\n",
       "      <th>first_name</th>\n",
       "      <th>last_name</th>\n",
       "      <th>account_number</th>\n",
       "      <th>email</th>\n",
       "    </tr>\n",
       "  </thead>\n",
       "  <tbody>\n",
       "    <tr>\n",
       "      <th>0</th>\n",
       "      <td>1</td>\n",
       "      <td>Addison</td>\n",
       "      <td>Marks</td>\n",
       "      <td>196296</td>\n",
       "      <td>ornare.lectus@et.edu</td>\n",
       "    </tr>\n",
       "    <tr>\n",
       "      <th>1</th>\n",
       "      <td>2</td>\n",
       "      <td>Dakota</td>\n",
       "      <td>Garza</td>\n",
       "      <td>409025</td>\n",
       "      <td>scelerisque@Praesentluctus.edu</td>\n",
       "    </tr>\n",
       "    <tr>\n",
       "      <th>2</th>\n",
       "      <td>3</td>\n",
       "      <td>Basia</td>\n",
       "      <td>Wolfe</td>\n",
       "      <td>637720</td>\n",
       "      <td>Aliquam@nullaIntegerurna.com</td>\n",
       "    </tr>\n",
       "    <tr>\n",
       "      <th>3</th>\n",
       "      <td>4</td>\n",
       "      <td>Germaine</td>\n",
       "      <td>Campbell</td>\n",
       "      <td>826846</td>\n",
       "      <td>id.magna@viverraMaecenas.ca</td>\n",
       "    </tr>\n",
       "    <tr>\n",
       "      <th>4</th>\n",
       "      <td>5</td>\n",
       "      <td>Lenore</td>\n",
       "      <td>Pennington</td>\n",
       "      <td>345284</td>\n",
       "      <td>aliquam@Integer.edu</td>\n",
       "    </tr>\n",
       "    <tr>\n",
       "      <th>...</th>\n",
       "      <td>...</td>\n",
       "      <td>...</td>\n",
       "      <td>...</td>\n",
       "      <td>...</td>\n",
       "      <td>...</td>\n",
       "    </tr>\n",
       "    <tr>\n",
       "      <th>1002</th>\n",
       "      <td>996</td>\n",
       "      <td>Kirestin</td>\n",
       "      <td>Potts</td>\n",
       "      <td>653131</td>\n",
       "      <td>in@accumsan.co.uk</td>\n",
       "    </tr>\n",
       "    <tr>\n",
       "      <th>1003</th>\n",
       "      <td>997</td>\n",
       "      <td>Kristen</td>\n",
       "      <td>Stout</td>\n",
       "      <td>628705</td>\n",
       "      <td>tempus@Loremipsumdolor.edu</td>\n",
       "    </tr>\n",
       "    <tr>\n",
       "      <th>1004</th>\n",
       "      <td>998</td>\n",
       "      <td>Daniel</td>\n",
       "      <td>Snider</td>\n",
       "      <td>535804</td>\n",
       "      <td>porttitor.tellus.non@maurisMorbinon.com</td>\n",
       "    </tr>\n",
       "    <tr>\n",
       "      <th>1005</th>\n",
       "      <td>999</td>\n",
       "      <td>Simone</td>\n",
       "      <td>Mcleod</td>\n",
       "      <td>407847</td>\n",
       "      <td>et.risus@consectetuereuismod.ca</td>\n",
       "    </tr>\n",
       "    <tr>\n",
       "      <th>1006</th>\n",
       "      <td>1000</td>\n",
       "      <td>Hermione</td>\n",
       "      <td>Morales</td>\n",
       "      <td>478506</td>\n",
       "      <td>eu.nulla@Donec.com</td>\n",
       "    </tr>\n",
       "  </tbody>\n",
       "</table>\n",
       "<p>1000 rows × 5 columns</p>\n",
       "</div>"
      ],
      "text/plain": [
       "        id first_name   last_name account_number  \\\n",
       "0        1    Addison       Marks         196296   \n",
       "1        2     Dakota       Garza         409025   \n",
       "2        3      Basia       Wolfe         637720   \n",
       "3        4   Germaine    Campbell         826846   \n",
       "4        5     Lenore  Pennington         345284   \n",
       "...    ...        ...         ...            ...   \n",
       "1002   996   Kirestin       Potts         653131   \n",
       "1003   997    Kristen       Stout         628705   \n",
       "1004   998     Daniel      Snider         535804   \n",
       "1005   999     Simone      Mcleod         407847   \n",
       "1006  1000   Hermione     Morales         478506   \n",
       "\n",
       "                                        email  \n",
       "0                        ornare.lectus@et.edu  \n",
       "1              scelerisque@Praesentluctus.edu  \n",
       "2                Aliquam@nullaIntegerurna.com  \n",
       "3                 id.magna@viverraMaecenas.ca  \n",
       "4                         aliquam@Integer.edu  \n",
       "...                                       ...  \n",
       "1002                        in@accumsan.co.uk  \n",
       "1003               tempus@Loremipsumdolor.edu  \n",
       "1004  porttitor.tellus.non@maurisMorbinon.com  \n",
       "1005          et.risus@consectetuereuismod.ca  \n",
       "1006                       eu.nulla@Donec.com  \n",
       "\n",
       "[1000 rows x 5 columns]"
      ]
     },
     "execution_count": 104,
     "metadata": {},
     "output_type": "execute_result"
    }
   ],
   "source": [
    "df[~pd.to_numeric(df['id'], errors='coerce').isnull()]"
   ]
  },
  {
   "cell_type": "code",
   "execution_count": 116,
   "id": "29a7c7fe-2e8e-403f-b818-82d76115710d",
   "metadata": {},
   "outputs": [
    {
     "data": {
      "text/html": [
       "<div>\n",
       "<style scoped>\n",
       "    .dataframe tbody tr th:only-of-type {\n",
       "        vertical-align: middle;\n",
       "    }\n",
       "\n",
       "    .dataframe tbody tr th {\n",
       "        vertical-align: top;\n",
       "    }\n",
       "\n",
       "    .dataframe thead th {\n",
       "        text-align: right;\n",
       "    }\n",
       "</style>\n",
       "<table border=\"1\" class=\"dataframe\">\n",
       "  <thead>\n",
       "    <tr style=\"text-align: right;\">\n",
       "      <th></th>\n",
       "      <th>id</th>\n",
       "      <th>first_name</th>\n",
       "      <th>last_name</th>\n",
       "      <th>account_number</th>\n",
       "      <th>email</th>\n",
       "    </tr>\n",
       "  </thead>\n",
       "  <tbody>\n",
       "    <tr>\n",
       "      <th>29</th>\n",
       "      <td>Bosley</td>\n",
       "      <td>656184</td>\n",
       "      <td>NaN</td>\n",
       "      <td>NaN</td>\n",
       "      <td>NaN</td>\n",
       "    </tr>\n",
       "    <tr>\n",
       "      <th>30</th>\n",
       "      <td>NaN</td>\n",
       "      <td>ac.ipsum.Phasellus@ut.net</td>\n",
       "      <td>NaN</td>\n",
       "      <td>NaN</td>\n",
       "      <td>NaN</td>\n",
       "    </tr>\n",
       "    <tr>\n",
       "      <th>84</th>\n",
       "      <td></td>\n",
       "      <td>531695</td>\n",
       "      <td>lectus.justo@lorem.co.uk</td>\n",
       "      <td>NaN</td>\n",
       "      <td>NaN</td>\n",
       "    </tr>\n",
       "    <tr>\n",
       "      <th>220</th>\n",
       "      <td>Harrington</td>\n",
       "      <td>Harrington</td>\n",
       "      <td>325378</td>\n",
       "      <td>neque.Nullam.ut@laoreetlectus.edu</td>\n",
       "      <td>NaN</td>\n",
       "    </tr>\n",
       "    <tr>\n",
       "      <th>341</th>\n",
       "      <td>NaN</td>\n",
       "      <td>porttitor.interdum.Sed@Loremipsum.co.uk</td>\n",
       "      <td>NaN</td>\n",
       "      <td>NaN</td>\n",
       "      <td>NaN</td>\n",
       "    </tr>\n",
       "    <tr>\n",
       "      <th>780</th>\n",
       "      <td>Barbara</td>\n",
       "      <td>Hurley</td>\n",
       "      <td>691210</td>\n",
       "      <td>enim.Mauris.quis@magna.net</td>\n",
       "      <td>NaN</td>\n",
       "    </tr>\n",
       "    <tr>\n",
       "      <th>991</th>\n",
       "      <td>NaN</td>\n",
       "      <td>157172</td>\n",
       "      <td>enim@disparturient.edu</td>\n",
       "      <td>NaN</td>\n",
       "      <td>NaN</td>\n",
       "    </tr>\n",
       "  </tbody>\n",
       "</table>\n",
       "</div>"
      ],
      "text/plain": [
       "             id                               first_name  \\\n",
       "29       Bosley                                   656184   \n",
       "30          NaN                ac.ipsum.Phasellus@ut.net   \n",
       "84                                                531695   \n",
       "220  Harrington                               Harrington   \n",
       "341         NaN  porttitor.interdum.Sed@Loremipsum.co.uk   \n",
       "780     Barbara                                   Hurley   \n",
       "991         NaN                                   157172   \n",
       "\n",
       "                    last_name                     account_number email  \n",
       "29                        NaN                                NaN   NaN  \n",
       "30                        NaN                                NaN   NaN  \n",
       "84   lectus.justo@lorem.co.uk                                NaN   NaN  \n",
       "220                    325378  neque.Nullam.ut@laoreetlectus.edu   NaN  \n",
       "341                       NaN                                NaN   NaN  \n",
       "780                    691210         enim.Mauris.quis@magna.net   NaN  \n",
       "991    enim@disparturient.edu                                NaN   NaN  "
      ]
     },
     "execution_count": 116,
     "metadata": {},
     "output_type": "execute_result"
    }
   ],
   "source": [
    "df[pd.to_numeric(df['id'], errors='coerce').isnull()]"
   ]
  },
  {
   "cell_type": "code",
   "execution_count": 114,
   "id": "4dff2b0f-dbe6-43c1-b614-cab13765387e",
   "metadata": {},
   "outputs": [
    {
     "data": {
      "text/plain": [
       "'Bosley'"
      ]
     },
     "execution_count": 114,
     "metadata": {},
     "output_type": "execute_result"
    }
   ],
   "source": [
    "pd.to_numeric(df['id'], errors='ignore')[29]"
   ]
  },
  {
   "cell_type": "code",
   "execution_count": null,
   "id": "e367e038-b808-46c0-a41a-d4018b713097",
   "metadata": {},
   "outputs": [],
   "source": []
  }
 ],
 "metadata": {
  "kernelspec": {
   "display_name": "Python 3 (ipykernel)",
   "language": "python",
   "name": "python3"
  },
  "language_info": {
   "codemirror_mode": {
    "name": "ipython",
    "version": 3
   },
   "file_extension": ".py",
   "mimetype": "text/x-python",
   "name": "python",
   "nbconvert_exporter": "python",
   "pygments_lexer": "ipython3",
   "version": "3.8.10"
  }
 },
 "nbformat": 4,
 "nbformat_minor": 5
}

{
 "cells": [
  {
   "cell_type": "code",
   "execution_count": 1,
   "id": "2a0609d1",
   "metadata": {},
   "outputs": [],
   "source": [
    "import pandas as pd\n",
    "import numpy as np"
   ]
  },
  {
   "cell_type": "code",
   "execution_count": 5,
   "id": "0c49926c",
   "metadata": {},
   "outputs": [],
   "source": [
    "filename = 'datos_data_engineer.tsv'\n",
    "path = ''"
   ]
  },
  {
   "cell_type": "code",
   "execution_count": 15,
   "id": "32ff7093",
   "metadata": {},
   "outputs": [],
   "source": [
    "df = pd.read_csv(filename, sep='\\t', encoding='utf-16le')"
   ]
  },
  {
   "cell_type": "code",
   "execution_count": 16,
   "id": "f53bd5c9",
   "metadata": {},
   "outputs": [
    {
     "data": {
      "text/html": [
       "<div>\n",
       "<style scoped>\n",
       "    .dataframe tbody tr th:only-of-type {\n",
       "        vertical-align: middle;\n",
       "    }\n",
       "\n",
       "    .dataframe tbody tr th {\n",
       "        vertical-align: top;\n",
       "    }\n",
       "\n",
       "    .dataframe thead th {\n",
       "        text-align: right;\n",
       "    }\n",
       "</style>\n",
       "<table border=\"1\" class=\"dataframe\">\n",
       "  <thead>\n",
       "    <tr style=\"text-align: right;\">\n",
       "      <th></th>\n",
       "      <th>id</th>\n",
       "      <th>first_name</th>\n",
       "      <th>last_name</th>\n",
       "      <th>account_number</th>\n",
       "      <th>email</th>\n",
       "    </tr>\n",
       "  </thead>\n",
       "  <tbody>\n",
       "    <tr>\n",
       "      <th>0</th>\n",
       "      <td>1</td>\n",
       "      <td>Addison</td>\n",
       "      <td>Marks</td>\n",
       "      <td>196296</td>\n",
       "      <td>ornare.lectus@et.edu</td>\n",
       "    </tr>\n",
       "    <tr>\n",
       "      <th>1</th>\n",
       "      <td>2</td>\n",
       "      <td>Dakota</td>\n",
       "      <td>Garza</td>\n",
       "      <td>409025</td>\n",
       "      <td>scelerisque@Praesentluctus.edu</td>\n",
       "    </tr>\n",
       "    <tr>\n",
       "      <th>2</th>\n",
       "      <td>3</td>\n",
       "      <td>Basia</td>\n",
       "      <td>Wolfe</td>\n",
       "      <td>637720</td>\n",
       "      <td>Aliquam@nullaIntegerurna.com</td>\n",
       "    </tr>\n",
       "    <tr>\n",
       "      <th>3</th>\n",
       "      <td>4</td>\n",
       "      <td>Germaine</td>\n",
       "      <td>Campbell</td>\n",
       "      <td>826846</td>\n",
       "      <td>id.magna@viverraMaecenas.ca</td>\n",
       "    </tr>\n",
       "    <tr>\n",
       "      <th>4</th>\n",
       "      <td>5</td>\n",
       "      <td>Lenore</td>\n",
       "      <td>Pennington</td>\n",
       "      <td>345284</td>\n",
       "      <td>aliquam@Integer.edu</td>\n",
       "    </tr>\n",
       "    <tr>\n",
       "      <th>...</th>\n",
       "      <td>...</td>\n",
       "      <td>...</td>\n",
       "      <td>...</td>\n",
       "      <td>...</td>\n",
       "      <td>...</td>\n",
       "    </tr>\n",
       "    <tr>\n",
       "      <th>1002</th>\n",
       "      <td>996</td>\n",
       "      <td>Kirestin</td>\n",
       "      <td>Potts</td>\n",
       "      <td>653131</td>\n",
       "      <td>in@accumsan.co.uk</td>\n",
       "    </tr>\n",
       "    <tr>\n",
       "      <th>1003</th>\n",
       "      <td>997</td>\n",
       "      <td>Kristen</td>\n",
       "      <td>Stout</td>\n",
       "      <td>628705</td>\n",
       "      <td>tempus@Loremipsumdolor.edu</td>\n",
       "    </tr>\n",
       "    <tr>\n",
       "      <th>1004</th>\n",
       "      <td>998</td>\n",
       "      <td>Daniel</td>\n",
       "      <td>Snider</td>\n",
       "      <td>535804</td>\n",
       "      <td>porttitor.tellus.non@maurisMorbinon.com</td>\n",
       "    </tr>\n",
       "    <tr>\n",
       "      <th>1005</th>\n",
       "      <td>999</td>\n",
       "      <td>Simone</td>\n",
       "      <td>Mcleod</td>\n",
       "      <td>407847</td>\n",
       "      <td>et.risus@consectetuereuismod.ca</td>\n",
       "    </tr>\n",
       "    <tr>\n",
       "      <th>1006</th>\n",
       "      <td>1000</td>\n",
       "      <td>Hermione</td>\n",
       "      <td>Morales</td>\n",
       "      <td>478506</td>\n",
       "      <td>eu.nulla@Donec.com</td>\n",
       "    </tr>\n",
       "  </tbody>\n",
       "</table>\n",
       "<p>1007 rows × 5 columns</p>\n",
       "</div>"
      ],
      "text/plain": [
       "        id first_name   last_name account_number  \\\n",
       "0        1    Addison       Marks         196296   \n",
       "1        2     Dakota       Garza         409025   \n",
       "2        3      Basia       Wolfe         637720   \n",
       "3        4   Germaine    Campbell         826846   \n",
       "4        5     Lenore  Pennington         345284   \n",
       "...    ...        ...         ...            ...   \n",
       "1002   996   Kirestin       Potts         653131   \n",
       "1003   997    Kristen       Stout         628705   \n",
       "1004   998     Daniel      Snider         535804   \n",
       "1005   999     Simone      Mcleod         407847   \n",
       "1006  1000   Hermione     Morales         478506   \n",
       "\n",
       "                                        email  \n",
       "0                        ornare.lectus@et.edu  \n",
       "1              scelerisque@Praesentluctus.edu  \n",
       "2                Aliquam@nullaIntegerurna.com  \n",
       "3                 id.magna@viverraMaecenas.ca  \n",
       "4                         aliquam@Integer.edu  \n",
       "...                                       ...  \n",
       "1002                        in@accumsan.co.uk  \n",
       "1003               tempus@Loremipsumdolor.edu  \n",
       "1004  porttitor.tellus.non@maurisMorbinon.com  \n",
       "1005          et.risus@consectetuereuismod.ca  \n",
       "1006                       eu.nulla@Donec.com  \n",
       "\n",
       "[1007 rows x 5 columns]"
      ]
     },
     "execution_count": 16,
     "metadata": {},
     "output_type": "execute_result"
    }
   ],
   "source": [
    "df"
   ]
  },
  {
   "cell_type": "code",
   "execution_count": 19,
   "id": "4587bad5",
   "metadata": {},
   "outputs": [
    {
     "data": {
      "text/plain": [
       "id                 3\n",
       "first_name        13\n",
       "last_name         14\n",
       "account_number    10\n",
       "email             13\n",
       "dtype: int64"
      ]
     },
     "execution_count": 19,
     "metadata": {},
     "output_type": "execute_result"
    }
   ],
   "source": [
    "df.isna().sum()"
   ]
  },
  {
   "cell_type": "code",
   "execution_count": null,
   "id": "3062bc97",
   "metadata": {},
   "outputs": [],
   "source": []
  }
 ],
 "metadata": {
  "kernelspec": {
   "display_name": "Python 3 (ipykernel)",
   "language": "python",
   "name": "python3"
  },
  "language_info": {
   "codemirror_mode": {
    "name": "ipython",
    "version": 3
   },
   "file_extension": ".py",
   "mimetype": "text/x-python",
   "name": "python",
   "nbconvert_exporter": "python",
   "pygments_lexer": "ipython3",
   "version": "3.9.7"
  }
 },
 "nbformat": 4,
 "nbformat_minor": 5
}
